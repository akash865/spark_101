{
  "nbformat": 4,
  "nbformat_minor": 0,
  "metadata": {
    "colab": {
      "name": "Spark101_CreateDataframe.ipynb",
      "provenance": [],
      "collapsed_sections": [],
      "toc_visible": true,
      "authorship_tag": "ABX9TyPYWACbPh47KbwbtdXJf82e",
      "include_colab_link": true
    },
    "kernelspec": {
      "name": "python3",
      "display_name": "Python 3"
    }
  },
  "cells": [
    {
      "cell_type": "markdown",
      "metadata": {
        "id": "view-in-github",
        "colab_type": "text"
      },
      "source": [
        "<a href=\"https://colab.research.google.com/github/akash865/spark_101/blob/master/Spark101_CreateDataframe.ipynb\" target=\"_parent\"><img src=\"https://colab.research.google.com/assets/colab-badge.svg\" alt=\"Open In Colab\"/></a>"
      ]
    },
    {
      "cell_type": "markdown",
      "metadata": {
        "id": "lihDEjAhyqca"
      },
      "source": [
        "# Spark 101 - Getting started with spark\n",
        "<hr size=\"5\"/>"
      ]
    },
    {
      "cell_type": "markdown",
      "metadata": {
        "id": "7k1hs7PCA6SA"
      },
      "source": [
        "> Notebook containing basic spark functions to get started with data analysis\n",
        "- Author: Akash Chandra\n",
        "- Comments: true\n",
        "- Categories: [Python, PySpark, Pandas]\n",
        "- Spark version: 3.0.3"
      ]
    },
    {
      "cell_type": "markdown",
      "metadata": {
        "id": "o9t08dFEeA9W"
      },
      "source": [
        "## **1. Running Spark in Colab**"
      ]
    },
    {
      "cell_type": "markdown",
      "metadata": {
        "id": "r0qXKDZMzLDc"
      },
      "source": [
        "Running spark codes in colab need some library imports. Please follow notebook to get started."
      ]
    },
    {
      "cell_type": "markdown",
      "metadata": {
        "id": "e8dsXbdzzHDc"
      },
      "source": [
        "### 1.1 Initialize Spark"
      ]
    },
    {
      "cell_type": "markdown",
      "metadata": {
        "id": "w1UN3lvn1sKf"
      },
      "source": [
        "The below line of codes initializes spark. This installs Apache Spark 3.0.0, Java 8, and Findspark, a library that makes it easy for Python to find Spark. You might also need to refer to correct version while installing. Here I am using 3.0.3. Any update in the library location might lead to an error, please refer to the link below to find the stable version. [Link to library](https://downloads.apache.org/spark/)\n",
        "\n",
        "> Version: spark-3.0.3\n"
      ]
    },
    {
      "cell_type": "code",
      "metadata": {
        "id": "anLHk85lyQ5G"
      },
      "source": [
        "!apt-get install openjdk-8-jdk-headless -qq > /dev/null\n",
        "!wget -q https://www-us.apache.org/dist/spark/spark-3.0.3/spark-3.0.3-bin-hadoop2.7.tgz\n",
        "!tar xf spark-3.0.3-bin-hadoop2.7.tgz\n",
        "!pip install -q findspark"
      ],
      "execution_count": null,
      "outputs": []
    },
    {
      "cell_type": "code",
      "metadata": {
        "id": "EzXlKXnGysC6"
      },
      "source": [
        "import os\n",
        "os.environ[\"JAVA_HOME\"] = \"/usr/lib/jvm/java-8-openjdk-amd64\"\n",
        "os.environ[\"SPARK_HOME\"] = \"/content/spark-3.0.3-bin-hadoop2.7\""
      ],
      "execution_count": null,
      "outputs": []
    },
    {
      "cell_type": "code",
      "metadata": {
        "id": "gJ6HCddh0rBI"
      },
      "source": [
        "import findspark\n",
        "findspark.init()\n",
        "from pyspark.sql import SparkSession\n",
        "spark = SparkSession.builder.master(\"local[*]\").getOrCreate()\n",
        "# sqlContext = SparkSession.builder.master(\"local[*]\").getOrCreate()"
      ],
      "execution_count": null,
      "outputs": []
    },
    {
      "cell_type": "code",
      "metadata": {
        "id": "77fvmo9F0szJ",
        "colab": {
          "base_uri": "https://localhost:8080/"
        },
        "outputId": "13526b08-7744-4098-ab76-02bdeb4442cc"
      },
      "source": [
        "# Check if spark is initialized\n",
        "df = spark.sql('''select 'spark' as hello''')\n",
        "df.show()"
      ],
      "execution_count": null,
      "outputs": [
        {
          "output_type": "stream",
          "text": [
            "+-----+\n",
            "|hello|\n",
            "+-----+\n",
            "|spark|\n",
            "+-----+\n",
            "\n"
          ],
          "name": "stdout"
        }
      ]
    },
    {
      "cell_type": "markdown",
      "metadata": {
        "id": "yOt5nGW15fKi"
      },
      "source": [
        "## **2. Ways to create dataframe**"
      ]
    },
    {
      "cell_type": "markdown",
      "metadata": {
        "id": "Nnkg7pMe5tSy"
      },
      "source": [
        "If you are able to run the codes above, you are good to proceed. Let's start with ways to create dataframe in spark. We will also do some basic data manipulation. But let's start with importing useful libraries first. Then we will look at some useful dataframe methods.\n",
        "<br>\n",
        "<br>\n",
        "Please note that there are many functions available in `pyspark.sql.function` which will be helpful for data analysis and descriptive analytics."
      ]
    },
    {
      "cell_type": "code",
      "metadata": {
        "id": "QWbHuaova0PH"
      },
      "source": [
        "# Import spark libraries\n",
        "from pyspark.sql import Row, DataFrame\n",
        "from pyspark.sql.types import StringType, StructType, StructField, IntegerType\n",
        "from pyspark.sql.functions import col, expr, lit, substring, concat, concat_ws, when, coalesce\n",
        "from pyspark.sql import functions as F # for more sql functions\n",
        "from functools import reduce"
      ],
      "execution_count": null,
      "outputs": []
    },
    {
      "cell_type": "markdown",
      "metadata": {
        "id": "RAAJP0bypn5z"
      },
      "source": [
        "### 2.1 View Spark dataframe"
      ]
    },
    {
      "cell_type": "markdown",
      "metadata": {
        "id": "l8dhv4o6pyah"
      },
      "source": [
        "Use show or collect method as shown below to view dataframe in spark.\n",
        "\n",
        "\n",
        "```\n",
        "df.show()\n",
        "OR \n",
        "df.collect()\n",
        "```\n",
        "\n"
      ]
    },
    {
      "cell_type": "markdown",
      "metadata": {
        "id": "fg0oIX8viJqX"
      },
      "source": [
        "### 2.2 Create Dataframe from list"
      ]
    },
    {
      "cell_type": "code",
      "metadata": {
        "id": "ZN9FFp5UC_KD",
        "colab": {
          "base_uri": "https://localhost:8080/"
        },
        "outputId": "48c73efb-559e-45d4-c650-8a389c1620db"
      },
      "source": [
        "df = spark.createDataFrame(\n",
        "    [\n",
        "      [\"2015-06-23\", 5],\n",
        "      [\"2016-07-20\", 7]\n",
        "    ], # Data rows\n",
        "    [\"data_date\", \"months_to_add\"] # Column names\n",
        ")\n",
        "\n",
        "df.show()"
      ],
      "execution_count": null,
      "outputs": [
        {
          "output_type": "stream",
          "text": [
            "+----------+-------------+\n",
            "| data_date|months_to_add|\n",
            "+----------+-------------+\n",
            "|2015-06-23|            5|\n",
            "|2016-07-20|            7|\n",
            "+----------+-------------+\n",
            "\n"
          ],
          "name": "stdout"
        }
      ]
    },
    {
      "cell_type": "markdown",
      "metadata": {
        "id": "NekhUJ6rqUYv"
      },
      "source": [
        "### 2.3 Create Dataframe from RDD"
      ]
    },
    {
      "cell_type": "code",
      "metadata": {
        "id": "n1pxB6-25YqL",
        "colab": {
          "base_uri": "https://localhost:8080/"
        },
        "outputId": "3fbe5fc5-2d8f-450d-dfd7-f63124f142f6"
      },
      "source": [
        "# create RDD to load into spark dataframe\n",
        "l =  [[\"2015-06-23\", 5]\n",
        "      ,[\"2016-07-20\", 7]] #List with data elements\n",
        "rdd1 = spark.sparkContext.parallelize(l)\n",
        "\n",
        "\n",
        "row_rdd = rdd1.map(lambda x: Row(x[0], x[1]))\n",
        "df = spark.createDataFrame(row_rdd, ['data_date', 'months_to_add'])\n",
        "\n",
        "df.show()"
      ],
      "execution_count": null,
      "outputs": [
        {
          "output_type": "stream",
          "text": [
            "+----------+-------------+\n",
            "| data_date|months_to_add|\n",
            "+----------+-------------+\n",
            "|2015-06-23|            5|\n",
            "|2016-07-20|            7|\n",
            "+----------+-------------+\n",
            "\n"
          ],
          "name": "stdout"
        }
      ]
    },
    {
      "cell_type": "markdown",
      "metadata": {
        "id": "9coMPnXJpV3A"
      },
      "source": [
        "### 2.4 Create Dataframe from RDD and schema"
      ]
    },
    {
      "cell_type": "markdown",
      "metadata": {
        "id": "ehpVBTo0GI36"
      },
      "source": [
        "The `nullable` in the below syntax allows null values in the dataframe. If set to `False`, the dataframe would throw an error for empty values"
      ]
    },
    {
      "cell_type": "code",
      "metadata": {
        "id": "Mv2gbDKPpSms",
        "colab": {
          "base_uri": "https://localhost:8080/"
        },
        "outputId": "f06e8c72-334c-406c-c1f0-201eb03ba18b"
      },
      "source": [
        "# create RDD to load into spark dataframe\n",
        "l =  [[\"2015-06-23\", 5]\n",
        "      ,[\"2016-07-20\", 7]] #List with data elements\n",
        "rdd1 = spark.sparkContext.parallelize(l)\n",
        "\n",
        "\n",
        "schema = StructType([    StructField(\"data_date\", StringType(), True),\n",
        "    StructField(\"months_to_add\", IntegerType(), True)]) # Col, Type, Nullable\n",
        "\n",
        "\n",
        "df = spark.createDataFrame(rdd1, schema)\n",
        "df.show()\n"
      ],
      "execution_count": null,
      "outputs": [
        {
          "output_type": "stream",
          "text": [
            "+----------+-------------+\n",
            "| data_date|months_to_add|\n",
            "+----------+-------------+\n",
            "|2015-06-23|            5|\n",
            "|2016-07-20|            7|\n",
            "+----------+-------------+\n",
            "\n"
          ],
          "name": "stdout"
        }
      ]
    },
    {
      "cell_type": "markdown",
      "metadata": {
        "id": "eUIRltIfaoQX"
      },
      "source": [
        "### 2.5 Create Dataframe from lists"
      ]
    },
    {
      "cell_type": "code",
      "metadata": {
        "id": "Cdm21E_naono",
        "colab": {
          "base_uri": "https://localhost:8080/"
        },
        "outputId": "724c98b7-8f36-4eb6-bb29-bbc728bd302f"
      },
      "source": [
        "# Building a simple dataframe:\n",
        "schema = StructType([\n",
        "    StructField(\"data_date\", StringType(), True),\n",
        "    StructField(\"months_to_add\", IntegerType(), True)\n",
        "    ]) # Col, Type, Nullable\n",
        "\n",
        "\n",
        "column1 = [\"2015-06-23\", \"2016-07-20\"]\n",
        "column2 = [5, 7]\n",
        "\n",
        "# Dataframe:\n",
        "df = spark.createDataFrame(list(zip(column1, column2)), schema=schema)\n",
        "df.show()"
      ],
      "execution_count": null,
      "outputs": [
        {
          "output_type": "stream",
          "text": [
            "+----------+-------------+\n",
            "| data_date|months_to_add|\n",
            "+----------+-------------+\n",
            "|2015-06-23|            5|\n",
            "|2016-07-20|            7|\n",
            "+----------+-------------+\n",
            "\n"
          ],
          "name": "stdout"
        }
      ]
    },
    {
      "cell_type": "markdown",
      "metadata": {
        "id": "Cys0Yf8Cq8cC"
      },
      "source": [
        "### 2.6 Create Dataframe from Pandas dataframe"
      ]
    },
    {
      "cell_type": "code",
      "metadata": {
        "id": "pUaf3spiqnUc",
        "colab": {
          "base_uri": "https://localhost:8080/"
        },
        "outputId": "e521e41e-bcd2-4b62-d608-24584dfd9b56"
      },
      "source": [
        "import pandas as pd\n",
        "# df = spark.createDataFrame(pandas_df.toPandas()) # Creating pandas dataframe first\n",
        "\n",
        "l =  [[\"2015-06-23\", 5]\n",
        "      ,[\"2016-07-20\", 7]] #List with data elements\n",
        "    \n",
        "df = spark.createDataFrame(pd.DataFrame(l),['data_date','months_to_add'])\n",
        "df.show()"
      ],
      "execution_count": null,
      "outputs": [
        {
          "output_type": "stream",
          "text": [
            "+----------+-------------+\n",
            "| data_date|months_to_add|\n",
            "+----------+-------------+\n",
            "|2015-06-23|            5|\n",
            "|2016-07-20|            7|\n",
            "+----------+-------------+\n",
            "\n"
          ],
          "name": "stdout"
        }
      ]
    },
    {
      "cell_type": "markdown",
      "metadata": {
        "id": "Yg2Oq8OvQdrQ"
      },
      "source": [
        "### 2.7 Create Dataframe from hive table"
      ]
    },
    {
      "cell_type": "markdown",
      "metadata": {
        "id": "qqPBo4uxHfHx"
      },
      "source": [
        "The below is useful when the tables are stored as hive tables which provides SQL-like access for data in HDFS."
      ]
    },
    {
      "cell_type": "markdown",
      "metadata": {
        "id": "7HKQYKq9HbbW"
      },
      "source": [
        "```\n",
        "input_table = <db_name>.<table_name>\n",
        "df = spark.sql('''select data_date, months_to_add from {0}'''.format(input_table)\n",
        "```"
      ]
    },
    {
      "cell_type": "markdown",
      "metadata": {
        "id": "xA20eldd5YtW"
      },
      "source": [
        "### 2.8 Create Dataframe from CSV or other text file"
      ]
    },
    {
      "cell_type": "markdown",
      "metadata": {
        "id": "h5I-JFQZkiHY"
      },
      "source": [
        "I am using data which is freely available from data.gov for FDIC failed bank list. You may download the same from link given or use any text file you have. Data link: https://catalog.data.gov/dataset/fdic-failed-bank-list.\n",
        "<br>\n",
        "<br>\n",
        "Do note the arguments in read function. `header` is True for providing data with first line as header. `inferschema` is just a lazy way of using best possible data types. `delimiter` could be changed to tab (\\t), or space(\\\\s) depending on input file.\n",
        "<br>\n",
        "<br>\n",
        "I have also uploaded the same file to github. Feel free to use the link directly."
      ]
    },
    {
      "cell_type": "code",
      "metadata": {
        "id": "8Qn3A88f5YoY",
        "colab": {
          "resources": {
            "http://localhost:8080/nbextensions/google.colab/files.js": {
              "data": "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",
              "ok": true,
              "headers": [
                [
                  "content-type",
                  "application/javascript"
                ]
              ],
              "status": 200,
              "status_text": ""
            }
          },
          "base_uri": "https://localhost:8080/",
          "height": 108
        },
        "outputId": "b4afb289-bf58-4b2d-b522-8f5b2ec15a27"
      },
      "source": [
        "# Importing offline files in colab\n",
        "from google.colab import files\n",
        "files.upload()"
      ],
      "execution_count": null,
      "outputs": [
        {
          "output_type": "display_data",
          "data": {
            "text/html": [
              "\n",
              "     <input type=\"file\" id=\"files-2db8c2ad-5729-4316-a703-08ff8d670de1\" name=\"files[]\" multiple disabled\n",
              "        style=\"border:none\" />\n",
              "     <output id=\"result-2db8c2ad-5729-4316-a703-08ff8d670de1\">\n",
              "      Upload widget is only available when the cell has been executed in the\n",
              "      current browser session. Please rerun this cell to enable.\n",
              "      </output>\n",
              "      <script src=\"/nbextensions/google.colab/files.js\"></script> "
            ],
            "text/plain": [
              "<IPython.core.display.HTML object>"
            ]
          },
          "metadata": {
            "tags": []
          }
        },
        {
          "output_type": "stream",
          "text": [
            "Saving banklist.csv to banklist.csv\n"
          ],
          "name": "stdout"
        },
        {
          "output_type": "execute_result",
          "data": {
            "text/plain": [
              "{'banklist.csv': b'Bank Name,City,ST,CERT,Acquiring Institution,Closing Date\\r\\nThe First State Bank,Barboursville,WV,14361,\"MVB Bank, Inc.\",3-Apr-20\\r\\nEricson State Bank,Ericson,NE,18265,Farmers and Merchants Bank,14-Feb-20\\r\\nCity National Bank of New Jersey,Newark,NJ,21111,Industrial Bank,1-Nov-19\\r\\nResolute Bank,Maumee,OH,58317,Buckeye State Bank,25-Oct-19\\r\\nLouisa Community Bank,Louisa,KY,58112,Kentucky Farmers Bank Corporation,25-Oct-19\\r\\nThe Enloe State Bank,Cooper,TX,10716,\"Legend Bank, N. A.\",31-May-19\\r\\nWashington Federal Bank for Savings,Chicago,IL,30570,Royal Savings Bank,15-Dec-17\\r\\nThe Farmers and Merchants State Bank of Argonia,Argonia,KS,17719,Conway Bank,13-Oct-17\\r\\nFayette County Bank,Saint Elmo,IL,1802,\"United Fidelity Bank, fsb\",26-May-17\\r\\n\"Guaranty Bank, (d/b/a BestBank in Georgia & Michigan)\",Milwaukee,WI,30003,First-Citizens Bank & Trust Company,5-May-17\\r\\nFirst NBC Bank,New Orleans,LA,58302,Whitney Bank,28-Apr-17\\r\\nProficio Bank,Cottonwood Heights,UT,35495,Cache Valley Bank,3-Mar-17\\r\\nSeaway Bank and Trust Company,Chicago,IL,19328,State Bank of Texas,27-Jan-17\\r\\nHarvest Community Bank,Pennsville,NJ,34951,First-Citizens Bank & Trust Company,13-Jan-17\\r\\nAllied Bank,Mulberry,AR,91,Today\\'s Bank,23-Sep-16\\r\\nThe Woodbury Banking Company,Woodbury,GA,11297,United Bank,19-Aug-16\\r\\nFirst CornerStone Bank,King of Prussia,PA,35312,First-Citizens Bank & Trust Company,6-May-16\\r\\nTrust Company Bank,Memphis,TN,9956,The Bank of Fayette County,29-Apr-16\\r\\nNorth Milwaukee State Bank,Milwaukee,WI,20364,First-Citizens Bank & Trust Company,11-Mar-16\\r\\nHometown National Bank,Longview,WA,35156,Twin City Bank,2-Oct-15\\r\\nThe Bank of Georgia,Peachtree City,GA,35259,Fidelity Bank,2-Oct-15\\r\\nPremier Bank,Denver,CO,34112,\"United Fidelity Bank, fsb\",10-Jul-15\\r\\nEdgebrook Bank,Chicago,IL,57772,Republic Bank of Chicago,8-May-15\\r\\nDoral Bank,San Juan,PR,32102,Banco Popular de Puerto Rico,27-Feb-15\\r\\nCapitol City Bank & Trust Company,Atlanta,GA,33938,First-Citizens Bank & Trust Company,13-Feb-15\\r\\nHighland Community Bank,Chicago,IL,20290,\"United Fidelity Bank, fsb\",23-Jan-15\\r\\nFirst National Bank of Crestview,Crestview,FL,17557,First NBC Bank,16-Jan-15\\r\\nNorthern Star Bank,Mankato,MN,34983,BankVista,19-Dec-14\\r\\n\"Frontier Bank, FSB D/B/A El Paseo Bank\",Palm Desert,CA,34738,\"Bank of Southern California, N.A.\",7-Nov-14\\r\\nThe National Republic Bank of Chicago,Chicago,IL,916,State Bank of Texas,24-Oct-14\\r\\nNBRS Financial,Rising Sun,MD,4862,Howard Bank,17-Oct-14\\r\\n\"GreenChoice Bank, fsb\",Chicago,IL,28462,\"Providence Bank, LLC\",25-Jul-14\\r\\nEastside Commercial Bank,Conyers,GA,58125,Community & Southern Bank,18-Jul-14\\r\\nThe Freedom State Bank,Freedom,OK,12483,Alva State Bank & Trust Company,27-Jun-14\\r\\nValley Bank,Fort Lauderdale,FL,21793,\"Landmark Bank, National Association\",20-Jun-14\\r\\nValley Bank,Moline,IL,10450,Great Southern Bank,20-Jun-14\\r\\nSlavie Federal Savings Bank,Bel Air,MD,32368,\"Bay Bank, FSB\",30-May-14\\r\\nColumbia Savings Bank,Cincinnati,OH,32284,\"United Fidelity Bank, fsb\",23-May-14\\r\\nAztecAmerica Bank,Berwyn,IL,57866,Republic Bank of Chicago,16-May-14\\r\\nAllendale County Bank,Fairfax,SC,15062,Palmetto State Bank,25-Apr-14\\r\\nVantage Point Bank,Horsham,PA,58531,First Choice Bank,28-Feb-14\\r\\n\"Millennium Bank, National Association\",Sterling,VA,35096,WashingtonFirst Bank,28-Feb-14\\r\\nSyringa Bank,Boise,ID,34296,Sunwest Bank,31-Jan-14\\r\\nThe Bank of Union,El Reno,OK,17967,BancFirst,24-Jan-14\\r\\nDuPage National Bank,West Chicago,IL,5732,Republic Bank of Chicago,17-Jan-14\\r\\n\"Texas Community Bank, National Association\",The Woodlands,TX,57431,\"Spirit of Texas Bank, SSB\",13-Dec-13\\r\\nBank of Jackson County,Graceville,FL,14794,First Federal Bank of Florida,30-Oct-13\\r\\nFirst National Bank also operating as The National Bank of El Paso,Edinburg,TX,14318,PlainsCapital Bank,13-Sep-13\\r\\nThe Community\\'s Bank,Bridgeport,CT,57041,No Acquirer,13-Sep-13\\r\\nSunrise Bank of Arizona,Phoenix,AZ,34707,\"First Fidelity Bank, National Association\",23-Aug-13\\r\\nCommunity South Bank,Parsons,TN,19849,\"CB&S Bank, Inc.\",23-Aug-13\\r\\nBank of Wausau,Wausau,WI,35016,Nicolet National Bank,9-Aug-13\\r\\nFirst Community Bank of Southwest Florida (also operating as Community Bank of Cape Coral),Fort Myers,FL,34943,C1 Bank,2-Aug-13\\r\\nMountain National Bank,Sevierville,TN,34789,\"First Tennessee Bank, National Association\",7-Jun-13\\r\\n1st Commerce Bank,North Las Vegas,NV,58358,Plaza Bank,6-Jun-13\\r\\nBanks of Wisconsin d/b/a Bank of Kenosha,Kenosha,WI,35386,\"North Shore Bank, FSB\",31-May-13\\r\\nCentral Arizona Bank,Scottsdale,AZ,34527,Western State Bank,14-May-13\\r\\nSunrise Bank,Valdosta,GA,58185,Synovus Bank,10-May-13\\r\\nPisgah Community Bank,Asheville,NC,58701,\"Capital Bank, N.A.\",10-May-13\\r\\nDouglas County Bank,Douglasville,GA,21649,Hamilton State Bank,26-Apr-13\\r\\nParkway Bank,Lenoir,NC,57158,\"CertusBank, National Association\",26-Apr-13\\r\\nChipola Community Bank,Marianna,FL,58034,First Federal Bank of Florida,19-Apr-13\\r\\nHeritage Bank of North Florida,Orange Park,FL,26680,FirstAtlantic Bank,19-Apr-13\\r\\nFirst Federal Bank,Lexington,KY,29594,Your Community Bank,19-Apr-13\\r\\nGold Canyon Bank,Gold Canyon,AZ,58066,\"First Scottsdale Bank, National Association\",5-Apr-13\\r\\nFrontier Bank,LaGrange,GA,16431,HeritageBank of the South,8-Mar-13\\r\\nCovenant Bank,Chicago,IL,22476,Liberty Bank and Trust Company,15-Feb-13\\r\\n1st Regents Bank,Andover,MN,57157,First Minnesota Bank,18-Jan-13\\r\\nWestside Community Bank,University Place,WA,33997,Sunwest Bank,11-Jan-13\\r\\nCommunity Bank of the Ozarks,Sunrise Beach,MO,27331,Bank of Sullivan,14-Dec-12\\r\\nHometown Community Bank,Braselton,GA,57928,\"CertusBank, National Association\",16-Nov-12\\r\\nCitizens First National Bank,Princeton,IL,3731,Heartland Bank and Trust Company,2-Nov-12\\r\\nHeritage Bank of Florida,Lutz,FL,35009,Centennial Bank,2-Nov-12\\r\\nNOVA Bank,Berwyn,PA,27148,No Acquirer,26-Oct-12\\r\\nExcel Bank,Sedalia,MO,19189,Simmons First National Bank,19-Oct-12\\r\\nFirst East Side Savings Bank,Tamarac,FL,28144,Stearns Bank N.A.,19-Oct-12\\r\\nGulfSouth Private Bank,Destin,FL,58073,SmartBank,19-Oct-12\\r\\nFirst United Bank,Crete,IL,20685,\"Old Plank Trail Community Bank, National Association\",28-Sep-12\\r\\nTruman Bank,St. Louis,MO,27316,Simmons First National Bank,14-Sep-12\\r\\nFirst Commercial Bank,Bloomington,MN,35246,Republic Bank & Trust Company,7-Sep-12\\r\\nWaukegan Savings Bank,Waukegan,IL,28243,First Midwest Bank,3-Aug-12\\r\\nJasper Banking Company,Jasper,GA,16240,Stearns Bank N.A.,27-Jul-12\\r\\nSecond Federal Savings and Loan Association of Chicago,Chicago,IL,27986,Hinsdale Bank & Trust Company,20-Jul-12\\r\\nHeartland Bank,Leawood,KS,1361,Metcalf Bank,20-Jul-12\\r\\nFirst Cherokee State Bank,Woodstock,GA,32711,Community & Southern Bank,20-Jul-12\\r\\nGeorgia Trust Bank,Buford,GA,57847,Community & Southern Bank,20-Jul-12\\r\\nThe Royal Palm Bank of Florida,Naples,FL,57096,First National Bank of the Gulf Coast,20-Jul-12\\r\\nGlasgow Savings Bank,Glasgow,MO,1056,Regional Missouri Bank,13-Jul-12\\r\\nMontgomery Bank & Trust,Ailey,GA,19498,Ameris Bank,6-Jul-12\\r\\nThe Farmers Bank of Lynchburg,Lynchburg,TN,1690,Clayton Bank and Trust,15-Jun-12\\r\\nSecurity Exchange Bank,Marietta,GA,35299,Fidelity Bank,15-Jun-12\\r\\nPutnam State Bank,Palatka,FL,27405,Harbor Community Bank,15-Jun-12\\r\\nWaccamaw Bank,Whiteville,NC,34515,First Community Bank,8-Jun-12\\r\\nFarmers\\' and Traders\\' State Bank,Shabbona,IL,9257,First State Bank,8-Jun-12\\r\\nCarolina Federal Savings Bank,Charleston,SC,35372,Bank of North Carolina,8-Jun-12\\r\\nFirst Capital Bank,Kingfisher,OK,416,F & M Bank,8-Jun-12\\r\\n\"Alabama Trust Bank, National Association\",Sylacauga,AL,35224,Southern States Bank,18-May-12\\r\\n\"Security Bank, National Association\",North Lauderdale,FL,23156,Banesco USA,4-May-12\\r\\nPalm Desert National Bank,Palm Desert,CA,23632,Pacific Premier Bank,27-Apr-12\\r\\nPlantation Federal Bank,Pawleys Island,SC,32503,First Federal Bank,27-Apr-12\\r\\n\"Inter Savings Bank, fsb D/B/A InterBank, fsb\",Maple Grove,MN,31495,Great Southern Bank,27-Apr-12\\r\\nHarVest Bank of Maryland,Gaithersburg,MD,57766,Sonabank,27-Apr-12\\r\\nBank of the Eastern Shore,Cambridge,MD,26759,No Acquirer,27-Apr-12\\r\\n\"Fort Lee Federal Savings Bank, FSB\",Fort Lee,NJ,35527,Alma Bank,20-Apr-12\\r\\nFidelity Bank,Dearborn,MI,33883,The Huntington National Bank,30-Mar-12\\r\\nPremier Bank,Wilmette,IL,35419,International Bank of Chicago,23-Mar-12\\r\\nCovenant Bank & Trust,Rock Spring,GA,58068,\"Stearns Bank, N.A.\",23-Mar-12\\r\\nNew City Bank,Chicago,IL,57597,No Acquirer,9-Mar-12\\r\\nGlobal Commerce Bank,Doraville,GA,34046,Metro City Bank,2-Mar-12\\r\\nHome Savings of America,Little Falls,MN,29178,No Acquirer,24-Feb-12\\r\\nCentral Bank of Georgia,Ellaville,GA,5687,Ameris Bank,24-Feb-12\\r\\nSCB Bank,Shelbyville,IN,29761,\"First Merchants Bank, National Association\",10-Feb-12\\r\\nCharter National Bank and Trust,Hoffman Estates,IL,23187,\"Barrington Bank & Trust Company, National Association\",10-Feb-12\\r\\nBankEast,Knoxville,TN,19869,\"U.S. Bank, N.A.\",27-Jan-12\\r\\nPatriot Bank Minnesota,Forest Lake,MN,34823,First Resource Bank,27-Jan-12\\r\\nTennessee Commerce Bank,Franklin,TN,35296,Republic Bank & Trust Company,27-Jan-12\\r\\nFirst Guaranty Bank and Trust Company of Jacksonville,Jacksonville,FL,16579,\"CenterState Bank of Florida, N.A.\",27-Jan-12\\r\\nAmerican Eagle Savings Bank,Boothwyn,PA,31581,\"Capital Bank, N.A.\",20-Jan-12\\r\\nThe First State Bank,Stockbridge,GA,19252,Hamilton State Bank,20-Jan-12\\r\\nCentral Florida State Bank,Belleview,FL,57186,\"CenterState Bank of Florida, N.A.\",20-Jan-12\\r\\nWestern National Bank,Phoenix,AZ,57917,Washington Federal,16-Dec-11\\r\\nPremier Community Bank of the Emerald Coast,Crestview,FL,58343,Summit Bank,16-Dec-11\\r\\nCentral Progressive Bank,Lacombe,LA,19657,First NBC Bank,18-Nov-11\\r\\nPolk County Bank,Johnston,IA,14194,Grinnell State Bank,18-Nov-11\\r\\nCommunity Bank of Rockmart,Rockmart,GA,57860,Century Bank of Georgia,10-Nov-11\\r\\nSunFirst Bank,Saint George,UT,57087,Cache Valley Bank,4-Nov-11\\r\\n\"Mid City Bank, Inc.\",Omaha,NE,19397,Premier Bank,4-Nov-11\\r\\nAll American Bank,Des Plaines,IL,57759,International Bank of Chicago,28-Oct-11\\r\\nCommunity Banks of Colorado,Greenwood Village,CO,21132,\"Bank Midwest, N.A.\",21-Oct-11\\r\\nCommunity Capital Bank,Jonesboro,GA,57036,State Bank and Trust Company,21-Oct-11\\r\\nDecatur First Bank,Decatur,GA,34392,Fidelity Bank,21-Oct-11\\r\\nOld Harbor Bank,Clearwater,FL,57537,1st United Bank,21-Oct-11\\r\\nCountry Bank,Aledo,IL,35395,Blackhawk Bank & Trust,14-Oct-11\\r\\nFirst State Bank,Cranford,NJ,58046,Northfield Bank,14-Oct-11\\r\\n\"Blue Ridge Savings Bank, Inc.\",Asheville,NC,32347,Bank of North Carolina,14-Oct-11\\r\\nPiedmont Community Bank,Gray,GA,57256,State Bank and Trust Company,14-Oct-11\\r\\nSun Security Bank,Ellington,MO,20115,Great Southern Bank,7-Oct-11\\r\\nThe RiverBank,Wyoming,MN,10216,Central Bank,7-Oct-11\\r\\nFirst International Bank,Plano,TX,33513,American First National Bank,30-Sep-11\\r\\nCitizens Bank of Northern California,Nevada City,CA,33983,Tri Counties Bank,23-Sep-11\\r\\nBank of the Commonwealth,Norfolk,VA,20408,Southern Bank and Trust Company,23-Sep-11\\r\\nThe First National Bank of Florida,Milton,FL,25155,CharterBank,9-Sep-11\\r\\nCreekSide Bank,Woodstock,GA,58226,Georgia Commerce Bank,2-Sep-11\\r\\nPatriot Bank of Georgia,Cumming,GA,58273,Georgia Commerce Bank,2-Sep-11\\r\\nFirst Choice Bank,Geneva,IL,57212,Inland Bank & Trust,19-Aug-11\\r\\nFirst Southern National Bank,Statesboro,GA,57239,Heritage Bank of the South,19-Aug-11\\r\\nLydian Private Bank,Palm Beach,FL,35356,\"Sabadell United Bank, N.A.\",19-Aug-11\\r\\nPublic Savings Bank,Huntingdon Valley,PA,34130,\"Capital Bank, N.A.\",18-Aug-11\\r\\nThe First National Bank of Olathe,Olathe,KS,4744,Enterprise Bank & Trust,12-Aug-11\\r\\nBank of Whitman,Colfax,WA,22528,Columbia State Bank,5-Aug-11\\r\\nBank of Shorewood,Shorewood,IL,22637,Heartland Bank and Trust Company,5-Aug-11\\r\\nIntegra Bank National Association,Evansville,IN,4392,Old National Bank,29-Jul-11\\r\\n\"BankMeridian, N.A.\",Columbia,SC,58222,SCBT National Association,29-Jul-11\\r\\nVirginia Business Bank,Richmond,VA,58283,Xenith Bank,29-Jul-11\\r\\nBank of Choice,Greeley,CO,2994,\"Bank Midwest, N.A.\",22-Jul-11\\r\\nLandMark Bank of Florida,Sarasota,FL,35244,American Momentum Bank,22-Jul-11\\r\\nSouthshore Community Bank,Apollo Beach,FL,58056,American Momentum Bank,22-Jul-11\\r\\nSummit Bank,Prescott,AZ,57442,The Foothills Bank,15-Jul-11\\r\\nFirst Peoples Bank,Port St. Lucie,FL,34870,\"Premier American Bank, N.A.\",15-Jul-11\\r\\nHigh Trust Bank,Stockbridge,GA,19554,Ameris Bank,15-Jul-11\\r\\nOne Georgia Bank,Atlanta,GA,58238,Ameris Bank,15-Jul-11\\r\\nSignature Bank,Windsor,CO,57835,Points West Community Bank,8-Jul-11\\r\\nColorado Capital Bank,Castle Rock,CO,34522,First-Citizens Bank & Trust Company,8-Jul-11\\r\\nFirst Chicago Bank & Trust,Chicago,IL,27935,Northbrook Bank & Trust Company,8-Jul-11\\r\\nMountain Heritage Bank,Clayton,GA,57593,First American Bank and Trust Company,24-Jun-11\\r\\nFirst Commercial Bank of Tampa Bay,Tampa,FL,27583,Stonegate Bank,17-Jun-11\\r\\nMcIntosh State Bank,Jackson,GA,19237,Hamilton State Bank,17-Jun-11\\r\\nAtlantic Bank and Trust,Charleston,SC,58420,\"First Citizens Bank and Trust Company, Inc.\",3-Jun-11\\r\\nFirst Heritage Bank,Snohomish,WA,23626,Columbia State Bank,27-May-11\\r\\nSummit Bank,Burlington,WA,513,Columbia State Bank,20-May-11\\r\\nFirst Georgia Banking Company,Franklin,GA,57647,\"CertusBank, National Association\",20-May-11\\r\\nAtlantic Southern Bank,Macon,GA,57213,\"CertusBank, National Association\",20-May-11\\r\\nCoastal Bank,Cocoa Beach,FL,34898,\"Florida Community Bank, a division of Premier American Bank, N.A.\",6-May-11\\r\\nCommunity Central Bank,Mount Clemens,MI,34234,Talmer Bank & Trust,29-Apr-11\\r\\nThe Park Avenue Bank,Valdosta,GA,19797,Bank of the Ozarks,29-Apr-11\\r\\nFirst Choice Community Bank,Dallas,GA,58539,Bank of the Ozarks,29-Apr-11\\r\\nCortez Community Bank,Brooksville,FL,57625,\"Florida Community Bank, a division of Premier American Bank, N.A.\",29-Apr-11\\r\\nFirst National Bank of Central Florida,Winter Park,FL,26297,\"Florida Community Bank, a division of Premier American Bank, N.A.\",29-Apr-11\\r\\nHeritage Banking Group,Carthage,MS,14273,Trustmark National Bank,15-Apr-11\\r\\nRosemount National Bank,Rosemount,MN,24099,Central Bank,15-Apr-11\\r\\nSuperior Bank,Birmingham,AL,17750,\"Superior Bank, National Association\",15-Apr-11\\r\\nNexity Bank,Birmingham,AL,19794,AloStar Bank of Commerce,15-Apr-11\\r\\nNew Horizons Bank,East Ellijay,GA,57705,Citizens South Bank,15-Apr-11\\r\\nBartow County Bank,Cartersville,GA,21495,Hamilton State Bank,15-Apr-11\\r\\nNevada Commerce Bank,Las Vegas,NV,35418,City National Bank,8-Apr-11\\r\\nWestern Springs National Bank and Trust,Western Springs,IL,10086,Heartland Bank and Trust Company,8-Apr-11\\r\\nThe Bank of Commerce,Wood Dale,IL,34292,Advantage National Bank Group,25-Mar-11\\r\\nLegacy Bank,Milwaukee,WI,34818,Seaway Bank and Trust Company,11-Mar-11\\r\\nFirst National Bank of Davis,Davis,OK,4077,The Pauls Valley National Bank,11-Mar-11\\r\\nValley Community Bank,St. Charles,IL,34187,First State Bank,25-Feb-11\\r\\n\"San Luis Trust Bank, FSB\",San Luis Obispo,CA,34783,First California Bank,18-Feb-11\\r\\nCharter Oak Bank,Napa,CA,57855,Bank of Marin,18-Feb-11\\r\\nCitizens Bank of Effingham,Springfield,GA,34601,Heritage Bank of the South,18-Feb-11\\r\\nHabersham Bank,Clarkesville,GA,151,SCBT National Association,18-Feb-11\\r\\nCanyon National Bank,Palm Springs,CA,34692,Pacific Premier Bank,11-Feb-11\\r\\nBadger State Bank,Cassville,WI,13272,Royal Bank,11-Feb-11\\r\\nPeoples State Bank,Hamtramck,MI,14939,First Michigan Bank,11-Feb-11\\r\\nSunshine State Community Bank,Port Orange,FL,35478,\"Premier American Bank, N.A.\",11-Feb-11\\r\\nCommunity First Bank Chicago,Chicago,IL,57948,Northbrook Bank & Trust Company,4-Feb-11\\r\\nNorth Georgia Bank,Watkinsville,GA,35242,BankSouth,4-Feb-11\\r\\nAmerican Trust Bank,Roswell,GA,57432,Renasant Bank,4-Feb-11\\r\\nFirst Community Bank,Taos,NM,12261,\"U.S. Bank, N.A.\",28-Jan-11\\r\\nFirsTier Bank,Louisville,CO,57646,No Acquirer,28-Jan-11\\r\\nEvergreen State Bank,Stoughton,WI,5328,McFarland State Bank,28-Jan-11\\r\\nThe First State Bank,Camargo,OK,2303,Bank 7,28-Jan-11\\r\\nUnited Western Bank,Denver,CO,31293,First-Citizens Bank & Trust Company,21-Jan-11\\r\\nThe Bank of Asheville,Asheville,NC,34516,First Bank,21-Jan-11\\r\\nCommunitySouth Bank & Trust,Easley,SC,57868,\"CertusBank, National Association\",21-Jan-11\\r\\nEnterprise Banking Company,McDonough,GA,19758,No Acquirer,21-Jan-11\\r\\nOglethorpe Bank,Brunswick,GA,57440,Bank of the Ozarks,14-Jan-11\\r\\nLegacy Bank,Scottsdale,AZ,57820,Enterprise Bank & Trust,7-Jan-11\\r\\nFirst Commercial Bank of Florida,Orlando,FL,34965,First Southern Bank,7-Jan-11\\r\\nCommunity National Bank,Lino Lakes,MN,23306,Farmers & Merchants Savings Bank,17-Dec-10\\r\\nFirst Southern Bank,Batesville,AR,58052,Southern Bank,17-Dec-10\\r\\n\"United Americas Bank, N.A.\",Atlanta,GA,35065,State Bank and Trust Company,17-Dec-10\\r\\n\"Appalachian Community Bank, FSB\",McCaysville,GA,58495,Peoples Bank of East Tennessee,17-Dec-10\\r\\nChestatee State Bank,Dawsonville,GA,34578,Bank of the Ozarks,17-Dec-10\\r\\n\"The Bank of Miami,N.A.\",Coral Gables,FL,19040,1st United Bank,17-Dec-10\\r\\nEarthstar Bank,Southampton,PA,35561,Polonia Bank,10-Dec-10\\r\\nParamount Bank,Farmington Hills,MI,34673,Level One Bank,10-Dec-10\\r\\nFirst Banking Center,Burlington,WI,5287,First Michigan Bank,19-Nov-10\\r\\nAllegiance Bank of North America,Bala Cynwyd,PA,35078,VIST Bank,19-Nov-10\\r\\nGulf State Community Bank,Carrabelle,FL,20340,Centennial Bank,19-Nov-10\\r\\nCopper Star Bank,Scottsdale,AZ,35463,\"Stearns Bank, N.A.\",12-Nov-10\\r\\nDarby Bank & Trust Co.,Vidalia,GA,14580,Ameris Bank,12-Nov-10\\r\\nTifton Banking Company,Tifton,GA,57831,Ameris Bank,12-Nov-10\\r\\nFirst Vietnamese American Bank,Westminster,CA,57885,Grandpoint Bank,5-Nov-10\\r\\nPierce Commercial Bank,Tacoma,WA,34411,Heritage Bank,5-Nov-10\\r\\nWestern Commercial Bank,Woodland Hills,CA,58087,First California Bank,5-Nov-10\\r\\nK Bank,Randallstown,MD,31263,Manufacturers and Traders Trust Company (M&T Bank),5-Nov-10\\r\\n\"First Arizona Savings, A FSB\",Scottsdale,AZ,32582,No Acquirer,22-Oct-10\\r\\nHillcrest Bank,Overland Park,KS,22173,\"Hillcrest Bank, N.A.\",22-Oct-10\\r\\nFirst Suburban National Bank,Maywood,IL,16089,Seaway Bank and Trust Company,22-Oct-10\\r\\nThe First National Bank of Barnesville,Barnesville,GA,2119,United Bank,22-Oct-10\\r\\nThe Gordon Bank,Gordon,GA,33904,Morris Bank,22-Oct-10\\r\\nProgress Bank of Florida,Tampa,FL,32251,Bay Cities Bank,22-Oct-10\\r\\nFirst Bank of Jacksonville,Jacksonville,FL,27573,Ameris Bank,22-Oct-10\\r\\nPremier Bank,Jefferson City,MO,34016,Providence Bank,15-Oct-10\\r\\nWestBridge Bank and Trust Company,Chesterfield,MO,58205,Midland States Bank,15-Oct-10\\r\\n\"Security Savings Bank, F.S.B.\",Olathe,KS,30898,Simmons First National Bank,15-Oct-10\\r\\nShoreline Bank,Shoreline,WA,35250,GBC International Bank,1-Oct-10\\r\\nWakulla Bank,Crawfordville,FL,21777,Centennial Bank,1-Oct-10\\r\\nNorth County Bank,Arlington,WA,35053,Whidbey Island Bank,24-Sep-10\\r\\nHaven Trust Bank Florida,Ponte Vedra Beach,FL,58308,First Southern Bank,24-Sep-10\\r\\nMaritime Savings Bank,West Allis,WI,28612,\"North Shore Bank, FSB\",17-Sep-10\\r\\nBramble Savings Bank,Milford,OH,27808,Foundation Bank,17-Sep-10\\r\\nThe Peoples Bank,Winder,GA,182,Community & Southern Bank,17-Sep-10\\r\\nFirst Commerce Community Bank,Douglasville,GA,57448,Community & Southern Bank,17-Sep-10\\r\\nBank of Ellijay,Ellijay,GA,58197,Community & Southern Bank,17-Sep-10\\r\\nISN Bank,Cherry Hill,NJ,57107,Customers Bank,17-Sep-10\\r\\nHorizon Bank,Bradenton,FL,35061,Bank of the Ozarks,10-Sep-10\\r\\nSonoma Valley Bank,Sonoma,CA,27259,Westamerica Bank,20-Aug-10\\r\\nLos Padres Bank,Solvang,CA,32165,Pacific Western Bank,20-Aug-10\\r\\nButte Community Bank,Chico,CA,33219,\"Rabobank, N.A.\",20-Aug-10\\r\\nPacific State Bank,Stockton,CA,27090,\"Rabobank, N.A.\",20-Aug-10\\r\\nShoreBank,Chicago,IL,15640,Urban Partnership Bank,20-Aug-10\\r\\nImperial Savings and Loan Association,Martinsville,VA,31623,\"River Community Bank, N.A.\",20-Aug-10\\r\\nIndependent National Bank,Ocala,FL,27344,\"CenterState Bank of Florida, N.A.\",20-Aug-10\\r\\nCommunity National Bank at Bartow,Bartow,FL,25266,\"CenterState Bank of Florida, N.A.\",20-Aug-10\\r\\nPalos Bank and Trust Company,Palos Heights,IL,17599,First Midwest Bank,13-Aug-10\\r\\nRavenswood Bank,Chicago,IL,34231,Northbrook Bank & Trust Company,6-Aug-10\\r\\nLibertyBank,Eugene,OR,31964,Home Federal Bank,30-Jul-10\\r\\nThe Cowlitz Bank,Longview,WA,22643,Heritage Bank,30-Jul-10\\r\\nCoastal Community Bank,Panama City Beach,FL,9619,Centennial Bank,30-Jul-10\\r\\nBayside Savings Bank,Port Saint Joe,FL,57669,Centennial Bank,30-Jul-10\\r\\nNorthwest Bank & Trust,Acworth,GA,57658,State Bank and Trust Company,30-Jul-10\\r\\nHome Valley Bank,Cave Junction,OR,23181,South Valley Bank & Trust,23-Jul-10\\r\\nSouthwestUSA Bank,Las Vegas,NV,35434,Plaza Bank,23-Jul-10\\r\\nCommunity Security Bank,New Prague,MN,34486,Roundbank,23-Jul-10\\r\\nThunder Bank,Sylvan Grove,KS,10506,The Bennington State Bank,23-Jul-10\\r\\nWilliamsburg First National Bank,Kingstree,SC,17837,\"First Citizens Bank and Trust Company, Inc.\",23-Jul-10\\r\\nCrescent Bank and Trust Company,Jasper,GA,27559,Renasant Bank,23-Jul-10\\r\\nSterling Bank,Lantana,FL,32536,IBERIABANK,23-Jul-10\\r\\n\"Mainstreet Savings Bank, FSB\",Hastings,MI,28136,Commercial Bank,16-Jul-10\\r\\nOlde Cypress Community Bank,Clewiston,FL,28864,\"CenterState Bank of Florida, N.A.\",16-Jul-10\\r\\nTurnberry Bank,Aventura,FL,32280,NAFH National Bank,16-Jul-10\\r\\nMetro Bank of Dade County,Miami,FL,25172,NAFH National Bank,16-Jul-10\\r\\nFirst National Bank of the South,Spartanburg,SC,35383,NAFH National Bank,16-Jul-10\\r\\nWoodlands Bank,Bluffton,SC,32571,Bank of the Ozarks,16-Jul-10\\r\\nHome National Bank,Blackwell,OK,11636,RCB Bank,9-Jul-10\\r\\nUSA Bank,Port Chester,NY,58072,New Century Bank,9-Jul-10\\r\\nIdeal Federal Savings Bank,Baltimore,MD,32456,No Acquirer,9-Jul-10\\r\\nBay National Bank,Baltimore,MD,35462,\"Bay Bank, FSB\",9-Jul-10\\r\\nHigh Desert State Bank,Albuquerque,NM,35279,First American Bank,25-Jun-10\\r\\nFirst National Bank,Savannah,GA,34152,\"The Savannah Bank, N.A.\",25-Jun-10\\r\\nPeninsula Bank,Englewood,FL,26563,\"Premier American Bank, N.A.\",25-Jun-10\\r\\nNevada Security Bank,Reno,NV,57110,Umpqua Bank,18-Jun-10\\r\\nWashington First International Bank,Seattle,WA,32955,East West Bank,11-Jun-10\\r\\nTierOne Bank,Lincoln,NE,29341,Great Western Bank,4-Jun-10\\r\\nArcola Homestead Savings Bank,Arcola,IL,31813,No Acquirer,4-Jun-10\\r\\nFirst National Bank,Rosedale,MS,15814,The Jefferson Bank,4-Jun-10\\r\\nSun West Bank,Las Vegas,NV,34785,City National Bank,28-May-10\\r\\n\"Granite Community Bank, NA\",Granite Bay,CA,57315,Tri Counties Bank,28-May-10\\r\\nBank of Florida - Tampa,Tampa,FL,57814,EverBank,28-May-10\\r\\nBank of Florida - Southwest,Naples,FL,35106,EverBank,28-May-10\\r\\nBank of Florida - Southeast,Fort Lauderdale,FL,57360,EverBank,28-May-10\\r\\nPinehurst Bank,Saint Paul,MN,57735,Coulee Bank,21-May-10\\r\\nMidwest Bank and Trust Company,Elmwood Park,IL,18117,\"FirstMerit Bank, N.A.\",14-May-10\\r\\nSouthwest Community Bank,Springfield,MO,34255,Simmons First National Bank,14-May-10\\r\\nNew Liberty Bank,Plymouth,MI,35586,Bank of Ann Arbor,14-May-10\\r\\nSatilla Community Bank,Saint Marys,GA,35114,Ameris Bank,14-May-10\\r\\n1st Pacific Bank of California,San Diego,CA,35517,City National Bank,7-May-10\\r\\nTowne Bank of Arizona,Mesa,AZ,57697,Commerce Bank of Arizona,7-May-10\\r\\nAccess Bank,Champlin,MN,16476,PrinsBank,7-May-10\\r\\nThe Bank of Bonifay,Bonifay,FL,14246,First Federal Bank of Florida,7-May-10\\r\\nFrontier Bank,Everett,WA,22710,\"Union Bank, N.A.\",30-Apr-10\\r\\nBC National Banks,Butler,MO,17792,Community First Bank,30-Apr-10\\r\\nChampion Bank,Creve Coeur,MO,58362,BankLiberty,30-Apr-10\\r\\nCF Bancorp,Port Huron,MI,30005,First Michigan Bank,30-Apr-10\\r\\nWesternbank Puerto Rico,Mayaguez,PR,31027,Banco Popular de Puerto Rico,30-Apr-10\\r\\nR-G Premier Bank of Puerto Rico,Hato Rey,PR,32185,Scotiabank de Puerto Rico,30-Apr-10\\r\\nEurobank,San Juan,PR,27150,Oriental Bank and Trust,30-Apr-10\\r\\nWheatland Bank,Naperville,IL,58429,Wheaton Bank & Trust,23-Apr-10\\r\\nPeotone Bank and Trust Company,Peotone,IL,10888,First Midwest Bank,23-Apr-10\\r\\nLincoln Park Savings Bank,Chicago,IL,30600,Northbrook Bank & Trust Company,23-Apr-10\\r\\nNew Century Bank,Chicago,IL,34821,\"MB Financial Bank, N.A.\",23-Apr-10\\r\\nCitizens Bank and Trust Company of Chicago,Chicago,IL,34658,Republic Bank of Chicago,23-Apr-10\\r\\nBroadway Bank,Chicago,IL,22853,\"MB Financial Bank, N.A.\",23-Apr-10\\r\\n\"Amcore Bank, National Association\",Rockford,IL,3735,Harris N.A.,23-Apr-10\\r\\nCity Bank,Lynnwood,WA,21521,Whidbey Island Bank,16-Apr-10\\r\\nTamalpais Bank,San Rafael,CA,33493,\"Union Bank, N.A.\",16-Apr-10\\r\\nInnovative Bank,Oakland,CA,23876,Center Bank,16-Apr-10\\r\\nButler Bank,Lowell,MA,26619,People\\'s United Bank,16-Apr-10\\r\\nRiverside National Bank of Florida,Fort Pierce,FL,24067,\"TD Bank, N.A.\",16-Apr-10\\r\\nAmericanFirst Bank,Clermont,FL,57724,\"TD Bank, N.A.\",16-Apr-10\\r\\nFirst Federal Bank of North Florida,Palatka,FL,28886,\"TD Bank, N.A.\",16-Apr-10\\r\\nLakeside Community Bank,Sterling Heights,MI,34878,No Acquirer,16-Apr-10\\r\\nBeach First National Bank,Myrtle Beach,SC,34242,Bank of North Carolina,9-Apr-10\\r\\nDesert Hills Bank,Phoenix,AZ,57060,New York Community Bank,26-Mar-10\\r\\nUnity National Bank,Cartersville,GA,34678,Bank of the Ozarks,26-Mar-10\\r\\nKey West Bank,Key West,FL,34684,Centennial Bank,26-Mar-10\\r\\nMcIntosh Commercial Bank,Carrollton,GA,57399,CharterBank,26-Mar-10\\r\\nState Bank of Aurora,Aurora,MN,8221,Northern State Bank,19-Mar-10\\r\\nFirst Lowndes Bank,Fort Deposit,AL,24957,First Citizens Bank,19-Mar-10\\r\\nBank of Hiawassee,Hiawassee,GA,10054,Citizens South Bank,19-Mar-10\\r\\nAppalachian Community Bank,Ellijay,GA,33989,Community & Southern Bank,19-Mar-10\\r\\nAdvanta Bank Corp.,Draper,UT,33535,No Acquirer,19-Mar-10\\r\\nCentury Security Bank,Duluth,GA,58104,Bank of Upson,19-Mar-10\\r\\nAmerican National Bank,Parma,OH,18806,The National Bank and Trust Company,19-Mar-10\\r\\nStatewide Bank,Covington,LA,29561,Home Bank,12-Mar-10\\r\\nOld Southern Bank,Orlando,FL,58182,Centennial Bank,12-Mar-10\\r\\nThe Park Avenue Bank,New York,NY,27096,Valley National Bank,12-Mar-10\\r\\nLibertyPointe Bank,New York,NY,58071,Valley National Bank,11-Mar-10\\r\\nCentennial Bank,Ogden,UT,34430,No Acquirer,5-Mar-10\\r\\nWaterfield Bank,Germantown,MD,34976,No Acquirer,5-Mar-10\\r\\nBank of Illinois,Normal,IL,9268,Heartland Bank and Trust Company,5-Mar-10\\r\\nSun American Bank,Boca Raton,FL,27126,First-Citizens Bank & Trust Company,5-Mar-10\\r\\nRainier Pacific Bank,Tacoma,WA,38129,Umpqua Bank,26-Feb-10\\r\\nCarson River Community Bank,Carson City,NV,58352,Heritage Bank of Nevada,26-Feb-10\\r\\n\"La Jolla Bank, FSB\",La Jolla,CA,32423,\"OneWest Bank, FSB\",19-Feb-10\\r\\nGeorge Washington Savings Bank,Orland Park,IL,29952,\"FirstMerit Bank, N.A.\",19-Feb-10\\r\\nThe La Coste National Bank,La Coste,TX,3287,Community National Bank,19-Feb-10\\r\\nMarco Community Bank,Marco Island,FL,57586,Mutual of Omaha Bank,19-Feb-10\\r\\n1st American State Bank of Minnesota,Hancock,MN,15448,\"Community Development Bank, FSB\",5-Feb-10\\r\\nAmerican Marine Bank,Bainbridge Island,WA,16730,Columbia State Bank,29-Jan-10\\r\\nFirst Regional Bank,Los Angeles,CA,23011,First-Citizens Bank & Trust Company,29-Jan-10\\r\\nCommunity Bank and Trust,Cornelia,GA,5702,SCBT National Association,29-Jan-10\\r\\n\"Marshall Bank, N.A.\",Hallock,MN,16133,United Valley Bank,29-Jan-10\\r\\nFlorida Community Bank,Immokalee,FL,5672,\"Premier American Bank, N.A.\",29-Jan-10\\r\\nFirst National Bank of Georgia,Carrollton,GA,16480,Community & Southern Bank,29-Jan-10\\r\\nColumbia River Bank,The Dalles,OR,22469,Columbia State Bank,22-Jan-10\\r\\nEvergreen Bank,Seattle,WA,20501,Umpqua Bank,22-Jan-10\\r\\nCharter Bank,Santa Fe,NM,32498,Charter Bank,22-Jan-10\\r\\nBank of Leeton,Leeton,MO,8265,\"Sunflower Bank, N.A.\",22-Jan-10\\r\\nPremier American Bank,Miami,FL,57147,\"Premier American Bank, N.A.\",22-Jan-10\\r\\nBarnes Banking Company,Kaysville,UT,1252,No Acquirer,15-Jan-10\\r\\nSt. Stephen State Bank,St. Stephen,MN,17522,First State Bank of St. Joseph,15-Jan-10\\r\\nTown Community Bank & Trust,Antioch,IL,34705,First American Bank,15-Jan-10\\r\\nHorizon Bank,Bellingham,WA,22977,Washington Federal Savings and Loan Association,8-Jan-10\\r\\n\"First Federal Bank of California, F.S.B.\",Santa Monica,CA,28536,\"OneWest Bank, FSB\",18-Dec-09\\r\\nImperial Capital Bank,La Jolla,CA,26348,City National Bank,18-Dec-09\\r\\nIndependent Bankers\\' Bank,Springfield,IL,26820,The Independent BankersBank (TIB),18-Dec-09\\r\\nNew South Federal Savings Bank,Irondale,AL,32276,Beal Bank,18-Dec-09\\r\\nCitizens State Bank,New Baltimore,MI,1006,No Acquirer,18-Dec-09\\r\\nPeoples First Community Bank,Panama City,FL,32167,Hancock Bank,18-Dec-09\\r\\nRockBridge Commercial Bank,Atlanta,GA,58315,No Acquirer,18-Dec-09\\r\\nSolutionsBank,Overland Park,KS,4731,Arvest Bank,11-Dec-09\\r\\n\"Valley Capital Bank, N.A.\",Mesa,AZ,58399,Enterprise Bank & Trust,11-Dec-09\\r\\n\"Republic Federal Bank, N.A.\",Miami,FL,22846,1st United Bank,11-Dec-09\\r\\nGreater Atlantic Bank,Reston,VA,32583,Sonabank,4-Dec-09\\r\\nBenchmark Bank,Aurora,IL,10440,\"MB Financial Bank, N.A.\",4-Dec-09\\r\\nAmTrust Bank,Cleveland,OH,29776,New York Community Bank,4-Dec-09\\r\\nThe Tattnall Bank,Reidsville,GA,12080,Heritage Bank of the South,4-Dec-09\\r\\nFirst Security National Bank,Norcross,GA,26290,State Bank and Trust Company,4-Dec-09\\r\\nThe Buckhead Community Bank,Atlanta,GA,34663,State Bank and Trust Company,4-Dec-09\\r\\nCommerce Bank of Southwest Florida,Fort Myers,FL,58016,Central Bank,20-Nov-09\\r\\nPacific Coast National Bank,San Clemente,CA,57914,Sunwest Bank,13-Nov-09\\r\\nOrion Bank,Naples,FL,22427,IBERIABANK,13-Nov-09\\r\\n\"Century Bank, F.S.B.\",Sarasota,FL,32267,IBERIABANK,13-Nov-09\\r\\nUnited Commercial Bank,San Francisco,CA,32469,East West Bank,6-Nov-09\\r\\nGateway Bank of St. Louis,St. Louis,MO,19450,Central Bank of Kansas City,6-Nov-09\\r\\nProsperan Bank,Oakdale,MN,35074,\"Alerus Financial, N.A.\",6-Nov-09\\r\\nHome Federal Savings Bank,Detroit,MI,30329,Liberty Bank and Trust Company,6-Nov-09\\r\\nUnited Security Bank,Sparta,GA,22286,Ameris Bank,6-Nov-09\\r\\nNorth Houston Bank,Houston,TX,18776,U.S. Bank N.A.,30-Oct-09\\r\\nMadisonville State Bank,Madisonville,TX,33782,U.S. Bank N.A.,30-Oct-09\\r\\nCitizens National Bank,Teague,TX,25222,U.S. Bank N.A.,30-Oct-09\\r\\nPark National Bank,Chicago,IL,11677,U.S. Bank N.A.,30-Oct-09\\r\\nPacific National Bank,San Francisco,CA,30006,U.S. Bank N.A.,30-Oct-09\\r\\nCalifornia National Bank,Los Angeles,CA,34659,U.S. Bank N.A.,30-Oct-09\\r\\nSan Diego National Bank,San Diego,CA,23594,U.S. Bank N.A.,30-Oct-09\\r\\nCommunity Bank of Lemont,Lemont,IL,35291,U.S. Bank N.A.,30-Oct-09\\r\\n\"Bank USA, N.A.\",Phoenix,AZ,32218,U.S. Bank N.A.,30-Oct-09\\r\\nFirst DuPage Bank,Westmont,IL,35038,First Midwest Bank,23-Oct-09\\r\\nRiverview Community Bank,Otsego,MN,57525,Central Bank,23-Oct-09\\r\\nBank of Elmwood,Racine,WI,18321,Tri City National Bank,23-Oct-09\\r\\nFlagship National Bank,Bradenton,FL,35044,First Federal Bank of Florida,23-Oct-09\\r\\nHillcrest Bank Florida,Naples,FL,58336,Stonegate Bank,23-Oct-09\\r\\nAmerican United Bank,Lawrenceville,GA,57794,Ameris Bank,23-Oct-09\\r\\nPartners Bank,Naples,FL,57959,Stonegate Bank,23-Oct-09\\r\\nSan Joaquin Bank,Bakersfield,CA,23266,Citizens Business Bank,16-Oct-09\\r\\nSouthern Colorado National Bank,Pueblo,CO,57263,Legacy Bank,2-Oct-09\\r\\nJennings State Bank,Spring Grove,MN,11416,Central Bank,2-Oct-09\\r\\nWarren Bank,Warren,MI,34824,The Huntington National Bank,2-Oct-09\\r\\nGeorgian Bank,Atlanta,GA,57151,\"First Citizens Bank and Trust Company, Inc.\",25-Sep-09\\r\\n\"Irwin Union Bank, F.S.B.\",Louisville,KY,57068,\"First Financial Bank, N.A.\",18-Sep-09\\r\\nIrwin Union Bank and Trust Company,Columbus,IN,10100,\"First Financial Bank, N.A.\",18-Sep-09\\r\\nVenture Bank,Lacey,WA,22868,First-Citizens Bank & Trust Company,11-Sep-09\\r\\nBrickwell Community Bank,Woodbury,MN,57736,CorTrust Bank N.A.,11-Sep-09\\r\\n\"Corus Bank, N.A.\",Chicago,IL,13693,\"MB Financial Bank, N.A.\",11-Sep-09\\r\\nFirst State Bank,Flagstaff,AZ,34875,Sunwest Bank,4-Sep-09\\r\\nPlatinum Community Bank,Rolling Meadows,IL,35030,No Acquirer,4-Sep-09\\r\\nVantus Bank,Sioux City,IA,27732,Great Southern Bank,4-Sep-09\\r\\nInBank,Oak Forest,IL,20203,\"MB Financial Bank, N.A.\",4-Sep-09\\r\\nFirst Bank of Kansas City,Kansas City,MO,25231,Great American Bank,4-Sep-09\\r\\nAffinity Bank,Ventura,CA,27197,Pacific Western Bank,28-Aug-09\\r\\nMainstreet Bank,Forest Lake,MN,1909,Central Bank,28-Aug-09\\r\\nBradford Bank,Baltimore,MD,28312,Manufacturers and Traders Trust Company (M&T Bank),28-Aug-09\\r\\nGuaranty Bank,Austin,TX,32618,BBVA Compass,21-Aug-09\\r\\nCapitalSouth Bank,Birmingham,AL,22130,IBERIABANK,21-Aug-09\\r\\nFirst Coweta Bank,Newnan,GA,57702,United Bank,21-Aug-09\\r\\nebank,Atlanta,GA,34682,\"Stearns Bank, N.A.\",21-Aug-09\\r\\nCommunity Bank of Nevada,Las Vegas,NV,34043,No Acquirer,14-Aug-09\\r\\nCommunity Bank of Arizona,Phoenix,AZ,57645,MidFirst Bank,14-Aug-09\\r\\n\"Union Bank, National Association\",Gilbert,AZ,34485,MidFirst Bank,14-Aug-09\\r\\nColonial Bank,Montgomery,AL,9609,\"Branch Banking & Trust Company, (BB&T)\",14-Aug-09\\r\\nDwelling House Savings and Loan Association,Pittsburgh,PA,31559,\"PNC Bank, N.A.\",14-Aug-09\\r\\nCommunity First Bank,Prineville,OR,23268,Home Federal Bank,7-Aug-09\\r\\nCommunity National Bank of Sarasota County,Venice,FL,27183,\"Stearns Bank, N.A.\",7-Aug-09\\r\\nFirst State Bank,Sarasota,FL,27364,\"Stearns Bank, N.A.\",7-Aug-09\\r\\nMutual Bank,Harvey,IL,18659,United Central Bank,31-Jul-09\\r\\nFirst BankAmericano,Elizabeth,NJ,34270,Crown Bank,31-Jul-09\\r\\nPeoples Community Bank,West Chester,OH,32288,\"First Financial Bank, N.A.\",31-Jul-09\\r\\nIntegrity Bank,Jupiter,FL,57604,Stonegate Bank,31-Jul-09\\r\\nFirst State Bank of Altus,Altus,OK,9873,Herring Bank,31-Jul-09\\r\\nSecurity Bank of Jones County,Gray,GA,8486,State Bank and Trust Company,24-Jul-09\\r\\nSecurity Bank of Houston County,Perry,GA,27048,State Bank and Trust Company,24-Jul-09\\r\\nSecurity Bank of Bibb County,Macon,GA,27367,State Bank and Trust Company,24-Jul-09\\r\\nSecurity Bank of North Metro,Woodstock,GA,57105,State Bank and Trust Company,24-Jul-09\\r\\nSecurity Bank of North Fulton,Alpharetta,GA,57430,State Bank and Trust Company,24-Jul-09\\r\\nSecurity Bank of Gwinnett County,Suwanee,GA,57346,State Bank and Trust Company,24-Jul-09\\r\\nWaterford Village Bank,Williamsville,NY,58065,\"Evans Bank, N.A.\",24-Jul-09\\r\\nTemecula Valley Bank,Temecula,CA,34341,First-Citizens Bank & Trust Company,17-Jul-09\\r\\nVineyard Bank,Rancho Cucamonga,CA,23556,California Bank & Trust,17-Jul-09\\r\\nBankFirst,Sioux Falls,SD,34103,\"Alerus Financial, N.A.\",17-Jul-09\\r\\nFirst Piedmont Bank,Winder,GA,34594,First American Bank and Trust Company,17-Jul-09\\r\\nBank of Wyoming,Thermopolis,WY,22754,Central Bank & Trust,10-Jul-09\\r\\nFounders Bank,Worth,IL,18390,The PrivateBank and Trust Company,2-Jul-09\\r\\nMillennium State Bank of Texas,Dallas,TX,57667,State Bank of Texas,2-Jul-09\\r\\nFirst National Bank of Danville,Danville,IL,3644,\"First Financial Bank, N.A.\",2-Jul-09\\r\\nThe Elizabeth State Bank,Elizabeth,IL,9262,Galena State Bank and Trust Company,2-Jul-09\\r\\nRock River Bank,Oregon,IL,15302,The Harvard State Bank,2-Jul-09\\r\\nFirst State Bank of Winchester,Winchester,IL,11710,The First National Bank of Beardstown,2-Jul-09\\r\\nJohn Warner Bank,Clinton,IL,12093,State Bank of Lincoln,2-Jul-09\\r\\nMirae Bank,Los Angeles,CA,57332,Wilshire State Bank,26-Jun-09\\r\\nMetroPacific Bank,Irvine,CA,57893,Sunwest Bank,26-Jun-09\\r\\nHorizon Bank,Pine City,MN,9744,\"Stearns Bank, N.A.\",26-Jun-09\\r\\nNeighborhood Community Bank,Newnan,GA,35285,CharterBank,26-Jun-09\\r\\nCommunity Bank of West Georgia,Villa Rica,GA,57436,No Acquirer,26-Jun-09\\r\\nFirst National Bank of Anthony,Anthony,KS,4614,Bank of Kansas,19-Jun-09\\r\\nCooperative Bank,Wilmington,NC,27837,First Bank,19-Jun-09\\r\\nSouthern Community Bank,Fayetteville,GA,35251,United Community Bank,19-Jun-09\\r\\nBank of Lincolnwood,Lincolnwood,IL,17309,Republic Bank of Chicago,5-Jun-09\\r\\nCitizens National Bank,Macomb,IL,5757,Morton Community Bank,22-May-09\\r\\nStrategic Capital Bank,Champaign,IL,35175,Midland States Bank,22-May-09\\r\\n\"BankUnited, FSB\",Coral Gables,FL,32247,BankUnited,21-May-09\\r\\nWestsound Bank,Bremerton,WA,34843,Kitsap Bank,8-May-09\\r\\nAmerica West Bank,Layton,UT,35461,Cache Valley Bank,1-May-09\\r\\nCitizens Community Bank,Ridgewood,NJ,57563,North Jersey Community Bank,1-May-09\\r\\n\"Silverton Bank, NA\",Atlanta,GA,26535,No Acquirer,1-May-09\\r\\nFirst Bank of Idaho,Ketchum,ID,34396,\"U.S. Bank, N.A.\",24-Apr-09\\r\\nFirst Bank of Beverly Hills,Calabasas,CA,32069,No Acquirer,24-Apr-09\\r\\nMichigan Heritage Bank,Farmington Hills,MI,34369,Level One Bank,24-Apr-09\\r\\nAmerican Southern Bank,Kennesaw,GA,57943,Bank of North Georgia,24-Apr-09\\r\\nGreat Basin Bank of Nevada,Elko,NV,33824,Nevada State Bank,17-Apr-09\\r\\nAmerican Sterling Bank,Sugar Creek,MO,8266,Metcalf Bank,17-Apr-09\\r\\nNew Frontier Bank,Greeley,CO,34881,No Acquirer,10-Apr-09\\r\\nCape Fear Bank,Wilmington,NC,34639,First Federal Savings and Loan Association,10-Apr-09\\r\\nOmni National Bank,Atlanta,GA,22238,No Acquirer,27-Mar-09\\r\\n\"TeamBank, NA\",Paola,KS,4754,Great Southern Bank,20-Mar-09\\r\\nColorado National Bank,Colorado Springs,CO,18896,Herring Bank,20-Mar-09\\r\\nFirstCity Bank,Stockbridge,GA,18243,No Acquirer,20-Mar-09\\r\\nFreedom Bank of Georgia,Commerce,GA,57558,Northeast Georgia Bank,6-Mar-09\\r\\nSecurity Savings Bank,Henderson,NV,34820,Bank of Nevada,27-Feb-09\\r\\nHeritage Community Bank,Glenwood,IL,20078,\"MB Financial Bank, N.A.\",27-Feb-09\\r\\nSilver Falls Bank,Silverton,OR,35399,Citizens Bank,20-Feb-09\\r\\nPinnacle Bank of Oregon,Beaverton,OR,57342,Washington Trust Bank of Spokane,13-Feb-09\\r\\nCorn Belt Bank & Trust Co.,Pittsfield,IL,16500,The Carlinville National Bank,13-Feb-09\\r\\nRiverside Bank of the Gulf Coast,Cape Coral,FL,34563,TIB Bank,13-Feb-09\\r\\nSherman County Bank,Loup City,NE,5431,Heritage Bank,13-Feb-09\\r\\nCounty Bank,Merced,CA,22574,Westamerica Bank,6-Feb-09\\r\\nAlliance Bank,Culver City,CA,23124,California Bank & Trust,6-Feb-09\\r\\nFirstBank Financial Services,McDonough,GA,57017,Regions Bank,6-Feb-09\\r\\nOcala National Bank,Ocala,FL,26538,\"CenterState Bank of Florida, N.A.\",30-Jan-09\\r\\nSuburban FSB,Crofton,MD,30763,Bank of Essex,30-Jan-09\\r\\nMagnetBank,Salt Lake City,UT,58001,No Acquirer,30-Jan-09\\r\\n1st Centennial Bank,Redlands,CA,33025,First California Bank,23-Jan-09\\r\\nBank of Clark County,Vancouver,WA,34959,Umpqua Bank,16-Jan-09\\r\\nNational Bank of Commerce,Berkeley,IL,19733,Republic Bank of Chicago,16-Jan-09\\r\\nSanderson State Bank,Sanderson,TX,11568,The Pecos County State Bank,12-Dec-08\\r\\nHaven Trust Bank,Duluth,GA,35379,\"Branch Banking & Trust Company, (BB&T)\",12-Dec-08\\r\\nFirst Georgia Community Bank,Jackson,GA,34301,United Bank,5-Dec-08\\r\\nPFF Bank & Trust,Pomona,CA,28344,\"U.S. Bank, N.A.\",21-Nov-08\\r\\nDowney Savings & Loan,Newport Beach,CA,30968,\"U.S. Bank, N.A.\",21-Nov-08\\r\\nCommunity Bank,Loganville,GA,16490,Bank of Essex,21-Nov-08\\r\\nSecurity Pacific Bank,Los Angeles,CA,23595,Pacific Western Bank,7-Nov-08\\r\\n\"Franklin Bank, SSB\",Houston,TX,26870,Prosperity Bank,7-Nov-08\\r\\nFreedom Bank,Bradenton,FL,57930,Fifth Third Bank,31-Oct-08\\r\\nAlpha Bank & Trust,Alpharetta,GA,58241,\"Stearns Bank, N.A.\",24-Oct-08\\r\\nMeridian Bank,Eldred,IL,13789,National Bank,10-Oct-08\\r\\nMain Street Bank,Northville,MI,57654,Monroe Bank & Trust,10-Oct-08\\r\\nWashington Mutual Bank (Including its subsidiary Washington Mutual Bank FSB),Henderson,NV,32633,JP Morgan Chase Bank,25-Sep-08\\r\\nAmeribank,Northfork,WV,6782,\"The Citizens Savings Bank, and Pioneer Community Bank, Inc.\",19-Sep-08\\r\\nSilver State Bank,Henderson,NV,34194,Nevada State Bank,5-Sep-08\\r\\nIntegrity Bank,Alpharetta,GA,35469,Regions Bank,29-Aug-08\\r\\nColumbian Bank & Trust,Topeka,KS,22728,Citizens Bank & Trust,22-Aug-08\\r\\nFirst Priority Bank,Bradenton,FL,57523,SunTrust Bank,1-Aug-08\\r\\n\"First Heritage Bank, NA\",Newport Beach,CA,57961,Mutual of Omaha Bank,25-Jul-08\\r\\nFirst National Bank of Nevada,Reno,NV,27011,Mutual of Omaha Bank,25-Jul-08\\r\\nIndyMac Bank,Pasadena,CA,29730,\"OneWest Bank, FSB\",11-Jul-08\\r\\n\"First Integrity Bank, NA\",Staples,MN,12736,First International Bank and Trust,30-May-08\\r\\n\"ANB Financial, NA\",Bentonville,AR,33901,Pulaski Bank and Trust Company,9-May-08\\r\\nHume Bank,Hume,MO,1971,Security Bank,7-Mar-08\\r\\nDouglass National Bank,Kansas City,MO,24660,Liberty Bank and Trust Company,25-Jan-08\\r\\nMiami Valley Bank,Lakeview,OH,16848,The Citizens Banking Company,4-Oct-07\\r\\nNetBank,Alpharetta,GA,32575,ING DIRECT,28-Sep-07\\r\\nMetropolitan Savings Bank,Pittsburgh,PA,35353,Allegheny Valley Bank of Pittsburgh,2-Feb-07\\r\\nBank of Ephraim,Ephraim,UT,1249,Far West Bank,25-Jun-04\\r\\nReliance Bank,White Plains,NY,26778,Union State Bank,19-Mar-04\\r\\nGuaranty National Bank of Tallahassee,Tallahassee,FL,26838,Hancock Bank of Florida,12-Mar-04\\r\\nDollar Savings Bank,Newark,NJ,31330,No Acquirer,14-Feb-04\\r\\nPulaski Savings Bank,Philadelphia,PA,27203,Earthstar Bank,14-Nov-03\\r\\nFirst National Bank of Blanchardville,Blanchardville,WI,11639,The Park Bank,9-May-03\\r\\nSouthern Pacific Bank,Torrance,CA,27094,Beal Bank,7-Feb-03\\r\\nFarmers Bank of Cheneyville,Cheneyville,LA,16445,Sabine State Bank & Trust,17-Dec-02\\r\\nBank of Alamo,Alamo,TN,9961,No Acquirer,8-Nov-02\\r\\nAmTrade International Bank,Atlanta,GA,33784,No Acquirer,30-Sep-02\\r\\nUniversal Federal Savings Bank,Chicago,IL,29355,Chicago Community Bank,27-Jun-02\\r\\nConnecticut Bank of Commerce,Stamford,CT,19183,Hudson United Bank,26-Jun-02\\r\\nNew Century Bank,Shelby Township,MI,34979,No Acquirer,28-Mar-02\\r\\nNet 1st National Bank,Boca Raton,FL,26652,Bank Leumi USA,1-Mar-02\\r\\n\"NextBank, NA\",Phoenix,AZ,22314,No Acquirer,7-Feb-02\\r\\nOakwood Deposit Bank Co.,Oakwood,OH,8966,The State Bank & Trust Company,1-Feb-02\\r\\nBank of Sierra Blanca,Sierra Blanca,TX,22002,The Security State Bank of Pecos,18-Jan-02\\r\\n\"Hamilton Bank, NA\",Miami,FL,24382,Israel Discount Bank of New York,11-Jan-02\\r\\nSinclair National Bank,Gravette,AR,34248,Delta Trust & Bank,7-Sep-01\\r\\n\"Superior Bank, FSB\",Hinsdale,IL,32646,\"Superior Federal, FSB\",27-Jul-01\\r\\nMalta National Bank,Malta,OH,6629,North Valley Bank,3-May-01\\r\\nFirst Alliance Bank & Trust Co.,Manchester,NH,34264,Southern New Hampshire Bank & Trust,2-Feb-01\\r\\nNational State Bank of Metropolis,Metropolis,IL,3815,Banterra Bank of Marion,14-Dec-00\\r\\nBank of Honolulu,Honolulu,HI,21029,Bank of the Orient,13-Oct-00'}"
            ]
          },
          "metadata": {
            "tags": []
          },
          "execution_count": 11
        }
      ]
    },
    {
      "cell_type": "code",
      "metadata": {
        "id": "Dsddm7AE246a",
        "colab": {
          "base_uri": "https://localhost:8080/"
        },
        "outputId": "a395ba3a-74c8-4d88-8e36-ddd89eaf43ce"
      },
      "source": [
        "# list all files in the temp directory\n",
        "! ls"
      ],
      "execution_count": null,
      "outputs": [
        {
          "output_type": "stream",
          "text": [
            "banklist.csv  spark-3.0.3-bin-hadoop2.7\n",
            "sample_data   spark-3.0.3-bin-hadoop2.7.tgz\n"
          ],
          "name": "stdout"
        }
      ]
    },
    {
      "cell_type": "code",
      "metadata": {
        "id": "n5j8RecENZZD",
        "colab": {
          "base_uri": "https://localhost:8080/"
        },
        "outputId": "6cf9a867-3872-4216-abb3-a8577de77a5f"
      },
      "source": [
        "# inferschema loads the closest datatype automatically from the data\n",
        "# header option reads first line as columns, else default value\n",
        "\n",
        "df = spark.read.options(header=\"true\", inferschema = \"true\", delimiter=\",\").csv('banklist.csv')\n",
        "\n",
        "print('df.count  :', df.count())\n",
        "print('df.col ct :', len(df.columns))\n",
        "print('df.columns:', df.columns)"
      ],
      "execution_count": null,
      "outputs": [
        {
          "output_type": "stream",
          "text": [
            "df.count  : 561\n",
            "df.col ct : 6\n",
            "df.columns: ['Bank Name', 'City', 'ST', 'CERT', 'Acquiring Institution', 'Closing Date']\n"
          ],
          "name": "stdout"
        }
      ]
    },
    {
      "cell_type": "code",
      "metadata": {
        "id": "HMWY41ljNU1c",
        "colab": {
          "base_uri": "https://localhost:8080/"
        },
        "outputId": "402158fb-1d03-4e9e-e406-f1bdbdcdabea"
      },
      "source": [
        "# Using file uploaded to github\n",
        "from pyspark import SparkFiles\n",
        "\n",
        "url = \"https://raw.githubusercontent.com/akash865/spark_101/master/banklist.csv\"\n",
        "spark.sparkContext.addFile(url)\n",
        "\n",
        "df = spark.read.options(header=\"true\", inferschema = \"true\", delimiter=\",\").csv(\"file://\"+SparkFiles.get(\"banklist.csv\"))\n",
        "\n",
        "print('df.count  :', df.count())\n",
        "print('df.col ct :', len(df.columns))\n",
        "print('df.columns:', df.columns)"
      ],
      "execution_count": null,
      "outputs": [
        {
          "output_type": "stream",
          "text": [
            "df.count  : 561\n",
            "df.col ct : 6\n",
            "df.columns: ['Bank Name', 'City', 'ST', 'CERT', 'Acquiring Institution', 'Closing Date']\n"
          ],
          "name": "stdout"
        }
      ]
    },
    {
      "cell_type": "code",
      "metadata": {
        "id": "cXKuUSLZh4au"
      },
      "source": [
        ""
      ],
      "execution_count": null,
      "outputs": []
    }
  ]
}